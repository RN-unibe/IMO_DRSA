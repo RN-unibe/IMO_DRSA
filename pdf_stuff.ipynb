{
 "cells": [
  {
   "cell_type": "code",
   "id": "initial_id",
   "metadata": {
    "collapsed": true,
    "ExecuteTime": {
     "end_time": "2025-04-29T21:00:52.159625Z",
     "start_time": "2025-04-29T21:00:51.905521Z"
    }
   },
   "source": [
    "from PyPDF2 import PdfReader, PdfWriter\n",
    "\n",
    "# Load the PDF\n",
    "reader = PdfReader(\"C:/Users/CptMeh/Documents/Uni/INFO/semester_10/seminar_cryptographie/books/BS23.pdf\")\n",
    "writer = PdfWriter()\n",
    "\n",
    "# Example: Keep only pages 0 to 4 (i.e., first 5 pages)\n",
    "for page_num in range(943, 957):\n",
    "    writer.add_page(reader.pages[page_num])\n",
    "\n",
    "# Save the new PDF\n",
    "with open(\"C:/Users/CptMeh/Documents/Uni/INFO/semester_10/seminar_cryptographie/books/BS23_22.pdf\", \"wb\") as output_file:\n",
    "    writer.write(output_file)\n"
   ],
   "outputs": [],
   "execution_count": 6
  }
 ],
 "metadata": {
  "kernelspec": {
   "display_name": "Python 3",
   "language": "python",
   "name": "python3"
  },
  "language_info": {
   "codemirror_mode": {
    "name": "ipython",
    "version": 2
   },
   "file_extension": ".py",
   "mimetype": "text/x-python",
   "name": "python",
   "nbconvert_exporter": "python",
   "pygments_lexer": "ipython2",
   "version": "2.7.6"
  }
 },
 "nbformat": 4,
 "nbformat_minor": 5
}
