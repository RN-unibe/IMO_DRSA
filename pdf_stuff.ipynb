{
 "cells": [
  {
   "cell_type": "code",
   "id": "initial_id",
   "metadata": {
    "collapsed": true,
    "ExecuteTime": {
     "end_time": "2025-04-08T10:19:32.476345Z",
     "start_time": "2025-04-08T10:19:32.096577Z"
    }
   },
   "source": [
    "from PyPDF2 import PdfReader, PdfWriter\n",
    "\n",
    "# Load the PDF\n",
    "reader = PdfReader(\"../the_book.pdf\")\n",
    "writer = PdfWriter()\n",
    "\n",
    "# Example: Keep only pages 0 to 4 (i.e., first 5 pages)\n",
    "for page_num in range(137, 172):\n",
    "    writer.add_page(reader.pages[page_num])\n",
    "\n",
    "# Save the new PDF\n",
    "with open(\"../the_book_chp5.pdf\", \"wb\") as output_file:\n",
    "    writer.write(output_file)\n"
   ],
   "outputs": [],
   "execution_count": 3
  }
 ],
 "metadata": {
  "kernelspec": {
   "display_name": "Python 3",
   "language": "python",
   "name": "python3"
  },
  "language_info": {
   "codemirror_mode": {
    "name": "ipython",
    "version": 2
   },
   "file_extension": ".py",
   "mimetype": "text/x-python",
   "name": "python",
   "nbconvert_exporter": "python",
   "pygments_lexer": "ipython2",
   "version": "2.7.6"
  }
 },
 "nbformat": 4,
 "nbformat_minor": 5
}
